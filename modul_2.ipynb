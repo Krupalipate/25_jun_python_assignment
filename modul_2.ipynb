{
 "cells": [
  {
   "cell_type": "code",
   "execution_count": null,
   "id": "59fa99ed",
   "metadata": {},
   "outputs": [],
   "source": [
    "# Write a Python program to check if a number is positive, negative or zero.(1)\n",
    "\n",
    "num=100\n",
    "if num>0:\n",
    "    print('num is ve+')\n",
    "elif num<0:\n",
    "    print('num is -ve')\n",
    "else:\n",
    "    print('num is 0')\n",
    "    \n"
   ]
  },
  {
   "cell_type": "code",
   "execution_count": null,
   "id": "8a7dfb16",
   "metadata": {},
   "outputs": [],
   "source": [
    "# Write a Python program to get the Factorial number of given number.\n",
    "\n",
    "num=7\n",
    "factorial=1\n",
    "if num<0:\n",
    "    print('sorry,factorial does not exist for negative numbers')\n",
    "elif num==0:\n",
    "    print('the factorial of 0 is 1')\n",
    "else:\n",
    "    for i in range(1,num+1):\n",
    "        factorial=factorial*i\n",
    "        print('the factorial of ',num,'is',factorial)\n",
    "        \n",
    "    \n"
   ]
  },
  {
   "cell_type": "code",
   "execution_count": null,
   "id": "2157bf77",
   "metadata": {},
   "outputs": [],
   "source": [
    "# Write a Python program to get the Fibonacci number of given number()\n",
    "i=1\n",
    "a=0\n",
    "b=1\n",
    "while i<10:\n",
    "    c=a+b\n",
    "    print(f'{c}')\n",
    "    a=b\n",
    "    b=c\n",
    "    i+=1\n",
    "    \n",
    "\n",
    "\n",
    "    "
   ]
  },
  {
   "cell_type": "code",
   "execution_count": null,
   "id": "ddfc2e21",
   "metadata": {},
   "outputs": [],
   "source": [
    "\n",
    "\n"
   ]
  },
  {
   "cell_type": "code",
   "execution_count": null,
   "id": "35494bca",
   "metadata": {
    "scrolled": true
   },
   "outputs": [],
   "source": [
    "# Write a Python program to find whether a given number is even or odd,(4)\n",
    "#print out an appropriate message to the user.\n",
    "\n",
    "num =int (input ('enter number:'))\n",
    "if num%2==0:\n",
    "    print(f'{num} is even')\n",
    "else:\n",
    "    print('{num} is odd')"
   ]
  },
  {
   "cell_type": "code",
   "execution_count": null,
   "id": "591894a4",
   "metadata": {},
   "outputs": [],
   "source": [
    "# How memory is managed in Python?(5)\n",
    "Memory management in Python involves a private heap containing all Python objects and data structures. \n",
    "The management of this private heap is ensured internally by the Python memory manager. \n",
    "The Python memory manager has different components which deal with various dynamic storage management aspects,\n",
    "like sharing, segmentation, preallocation or caching.\n"
   ]
  },
  {
   "cell_type": "code",
   "execution_count": null,
   "id": "1d67cdca",
   "metadata": {},
   "outputs": [],
   "source": [
    "# What is the purpose continue statement in python?(6)\n",
    "The continue statement passes control to the next iteration of the nearest enclosing do ,\n",
    "for , or while statement in which it appears, bypassing any remaining statements in the do ,\n",
    "for , or while statement body."
   ]
  },
  {
   "cell_type": "code",
   "execution_count": null,
   "id": "bb04918f",
   "metadata": {},
   "outputs": [],
   "source": [
    "# Write python program that swap two number with temp variable and without temp variable.(7)\n",
    "#(using 3rd variable)\n",
    "a=10\n",
    "b=20\n",
    "print('before sweping')\n",
    "print('a=',a)\n",
    "print('b=',b)\n",
    "a=a+b\n",
    "b=a-b\n",
    "b=a-b\n",
    "print('after sweping')\n",
    "print('a=',a)\n",
    "print('b=',b)\n",
    "\n",
    "\n"
   ]
  },
  {
   "cell_type": "code",
   "execution_count": null,
   "id": "5782c708",
   "metadata": {
    "scrolled": true
   },
   "outputs": [],
   "source": [
    "#(withaout using 3rd variable)\n",
    "\n",
    "a=2\n",
    "b=3\n",
    "print('before swaping:')\n",
    "print('a =',a)\n",
    "print('b =',b)\n",
    "\n",
    "a=a+b\n",
    "b=a-b\n",
    "a=a-b\n",
    "\n",
    "print('after swaping:')\n",
    "print('a =',a)\n",
    "print('b =',b)\n"
   ]
  },
  {
   "cell_type": "code",
   "execution_count": null,
   "id": "2aaf0e58",
   "metadata": {},
   "outputs": [],
   "source": [
    "# Write a Python program to test whether a passed letter is a vowel or not.(8)\n",
    "\n",
    "\n",
    "letter = input('enter a letter :- ')\n",
    "vowel = 'aeiouAEIOU'\n",
    "if letter in vowel:\n",
    "    print(letter,'is vowel')\n",
    "else:\n",
    "    print(letter,'is not a vowel')\n",
    "    "
   ]
  },
  {
   "cell_type": "code",
   "execution_count": null,
   "id": "b1d9061e",
   "metadata": {},
   "outputs": [],
   "source": [
    "# Write a Python program to sum of three given integers. However, if two values are equal sum will be zero.(9)\n",
    "\n",
    "num1=23\n",
    "num2=23\n",
    "num3=23\n",
    "if num1==num2  and num2==num3:\n",
    "    print('addition:0')\n",
    "else:\n",
    "    add=num1+num2+num3\n",
    "    print(f'addition:{add}')\n",
    "    \n",
    "\n",
    "    "
   ]
  },
  {
   "cell_type": "code",
   "execution_count": null,
   "id": "80f9ad3f",
   "metadata": {},
   "outputs": [],
   "source": [
    "#Write a Python program that will return true if the two given integer values are equal or their sum or difference is 5.(10)\n",
    "\n",
    "#print('enter 2 number:')\n",
    "a = 2\n",
    "b = 3\n",
    "\n",
    "if a==b or a+b==5 or a-b==5 or b-a==5:\n",
    "    print(true)\n",
    "    \n",
    "\n",
    "    \n",
    "\n"
   ]
  },
  {
   "cell_type": "code",
   "execution_count": 13,
   "id": "05b9b525",
   "metadata": {},
   "outputs": [
    {
     "name": "stdout",
     "output_type": "stream",
     "text": [
      "number:1\n",
      "number:2\n",
      "number:3\n",
      "number:4\n",
      "number:5\n"
     ]
    }
   ],
   "source": [
    "# Write a python program to sum of the first n positive integers.(11)\n",
    "i=1\n",
    "while i<6:\n",
    "    print(f'number:{i}')\n",
    "    i+=1\n",
    "    "
   ]
  },
  {
   "cell_type": "code",
   "execution_count": 12,
   "id": "7babbf28",
   "metadata": {},
   "outputs": [
    {
     "name": "stdout",
     "output_type": "stream",
     "text": [
      "13\n"
     ]
    }
   ],
   "source": [
    "# Write a Python program to calculate the length of a string.(12)\n",
    "str1='krupali patel'\n",
    "print(len(str1))\n",
    "\n"
   ]
  },
  {
   "cell_type": "code",
   "execution_count": 1,
   "id": "300455f7",
   "metadata": {},
   "outputs": [
    {
     "name": "stdout",
     "output_type": "stream",
     "text": [
      "l :str1.cont(i),e :str1.cont(i),a :str1.cont(i),r :str1.cont(i),n :str1.cont(i),  :str1.cont(i),t :str1.cont(i),h :str1.cont(i),p :str1.cont(i),y :str1.cont(i),o :str1.cont(i),i :str1.cont(i),s :str1.cont(i),"
     ]
    }
   ],
   "source": [
    "# Write a Python program to count the number of characters (character frequency) in a string (13)\n",
    "# str1='krupali patel'\n",
    "# str1.count('k')\n",
    "\n",
    "str1='learn the python in tops'\n",
    "str2=''\n",
    "for i in str1:\n",
    "    if i not in str2:\n",
    "        str2+=i\n",
    "        print(i,':str1.cont(i)',end=',')\n",
    "    else:\n",
    "        continue\n",
    "\n",
    "\n"
   ]
  },
  {
   "cell_type": "code",
   "execution_count": null,
   "id": "44018ef6",
   "metadata": {},
   "outputs": [],
   "source": [
    "# What are negative indexes and why are they used?\n",
    "Negative indexing in Python means the indexing starts from the end of the iterable.\n",
    "The last element is at index -1, the second last at -2, and so on.\n"
   ]
  },
  {
   "cell_type": "code",
   "execution_count": 2,
   "id": "51111f94",
   "metadata": {
    "scrolled": true
   },
   "outputs": [
    {
     "name": "stdout",
     "output_type": "stream",
     "text": [
      "kkrupali patelikrupali patelskrupali patelhkrupali patelokrupali patelrkrupali patelbkrupali patelhkrupali patelakrupali pateli\n"
     ]
    }
   ],
   "source": [
    "#  Write a Python program to count occurrences of a substring in a string.\n",
    "str1='krupali patel'\n",
    "str2='kishorbhai'\n",
    "\n",
    "occurrences=str1.join(str2)\n",
    "print(occurrences)                           # error che check"
   ]
  },
  {
   "cell_type": "code",
   "execution_count": null,
   "id": "b5840709",
   "metadata": {},
   "outputs": [],
   "source": [
    "# Write a Python program to count the occurrences of each word in a given sentence.\n",
    "str1='krupali kishorbhai patel krupali'\n",
    "str1.find('pali')\n",
    "\n"
   ]
  },
  {
   "cell_type": "code",
   "execution_count": 11,
   "id": "e6a1529d",
   "metadata": {},
   "outputs": [
    {
     "name": "stdout",
     "output_type": "stream",
     "text": [
      "krupalikishorbahi\n"
     ]
    }
   ],
   "source": [
    "#  Write a Python program to get a single string from two given strings, separated by a space and swap \n",
    "#the first two characters of each string.\n",
    "\n",
    "str1='krupali'\n",
    "str2='kishorbahi'\n",
    "print(str1+str2)\n"
   ]
  },
  {
   "cell_type": "code",
   "execution_count": 9,
   "id": "41fdd783",
   "metadata": {},
   "outputs": [
    {
     "name": "stdout",
     "output_type": "stream",
     "text": [
      "krupali kishorbahi pateling\n"
     ]
    }
   ],
   "source": [
    "#Write a Python program to add 'ing' at the end of a given string (length should be at least 3).\n",
    "#If the given string already ends with 'ing' then add 'ly' instead if the string length of the given string is less than 3,\n",
    "#leave it unchanged.\n",
    "\n",
    "str1 = ('krupali kishorbahi patel')\n",
    "if len(str1)<3:\n",
    "    print(str1)\n",
    "elif str1[len(str1)-3:len(str1):1]=='ing':\n",
    "    str1 = str1 + 'ly'\n",
    "    print(str1)\n",
    "else:\n",
    "    str1 = str1 + 'ing'\n",
    "    print(str1)\n",
    "\n"
   ]
  },
  {
   "cell_type": "code",
   "execution_count": 10,
   "id": "b51c3f14",
   "metadata": {},
   "outputs": [
    {
     "name": "stdout",
     "output_type": "stream",
     "text": [
      "students are good in maths\n"
     ]
    }
   ],
   "source": [
    "# Write a Python program to find the first appearance of the substring 'not'\n",
    "#and 'poor' from a given string, if 'not' follows the 'poor', replace the whole\n",
    "#'not'...'poor'substring with 'good'. Return the resulting string.\n",
    "#Write a Python function that takes a list of words and returns the length of\n",
    "#the longest one.\n",
    "str1='students are poor in python but not in maths'\n",
    "ipoor=str1.index('poor')\n",
    "inot=str1.index('not')\n",
    "inotlen=inot+len('not')\n",
    "\n",
    "if inot>ipoor:\n",
    "    str2=str1[ipoor:inotlen]\n",
    "    str1=str1.replace(str2,'good')\n",
    "    print(str1)\n",
    "else:\n",
    "    print('dont replace')\n",
    "    \n",
    "                                                                                       #baki che ni padi khabar\n"
   ]
  },
  {
   "cell_type": "code",
   "execution_count": 3,
   "id": "9321f971",
   "metadata": {},
   "outputs": [
    {
     "name": "stdout",
     "output_type": "stream",
     "text": [
      "learning python in tops\n",
      "spot ni nohtyp gninrael\n",
      "23\n"
     ]
    }
   ],
   "source": [
    "# Write a Python function to reverses a string if its length is a multiple of 4\n",
    "\n",
    "str1='learning python in tops'\n",
    "print (str1)\n",
    "print (str1 [::-1])\n",
    "print(len(str1))\n"
   ]
  },
  {
   "cell_type": "code",
   "execution_count": 5,
   "id": "d6fd63e4",
   "metadata": {},
   "outputs": [
    {
     "name": "stdout",
     "output_type": "stream",
     "text": [
      "enter a strings:w3w3\n",
      "w3w3\n"
     ]
    }
   ],
   "source": [
    "# Write a Python program to get a string made of the first 2 and the last 2\n",
    "#chars from a given a string. If the string length is less than 2, return\n",
    "#instead of the empty string.\n",
    "#o Sample String: w3resource' o\n",
    "#Expected Result: 'w3ce' o Sample\n",
    "#String: 'w3' o Expected Result:\n",
    "#'w3w3' o Sample String: ' w' o\n",
    "#Expected Result: Empty String\n",
    " \n",
    "str=input('enter a strings:')\n",
    "if len(str)<2:\n",
    "      print('empty string')\n",
    "else:\n",
    "    b= str[:2]+str[-2:]\n",
    "   \n",
    "    print(b)\n"
   ]
  },
  {
   "cell_type": "code",
   "execution_count": null,
   "id": "1a2172fe",
   "metadata": {},
   "outputs": [],
   "source": [
    "#  Write a Python function to insert a string in the middle of a string.\n",
    "\n"
   ]
  }
 ],
 "metadata": {
  "kernelspec": {
   "display_name": "Python 3 (ipykernel)",
   "language": "python",
   "name": "python3"
  },
  "language_info": {
   "codemirror_mode": {
    "name": "ipython",
    "version": 3
   },
   "file_extension": ".py",
   "mimetype": "text/x-python",
   "name": "python",
   "nbconvert_exporter": "python",
   "pygments_lexer": "ipython3",
   "version": "3.9.12"
  }
 },
 "nbformat": 4,
 "nbformat_minor": 5
}
